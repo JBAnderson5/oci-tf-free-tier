{
 "cells": [
  {
   "cell_type": "code",
   "execution_count": null,
   "metadata": {},
   "outputs": [],
   "source": [
    "import oci\n",
    "\n",
    "config = oci.config.from_file(profile_name=\"DEFAULT\")\n",
    "\n",
    "#rm_advanced = oci.resource_manager.ResourceManagerClientCompositeOperations(client = config)\n",
    "rm =  oci.resource_manager.ResourceManagerClient(config = config)\n",
    "\n",
    "\n"
   ]
  },
  {
   "cell_type": "code",
   "execution_count": null,
   "metadata": {},
   "outputs": [],
   "source": [
    "# get stack status\n",
    "\n",
    "stack = rm.list_stacks(display_name = \"oci-freetier-Stack-20231020230415\", compartment_id = config[\"tenancy\"])\n",
    "\n",
    "stack_id = stack.data[0].id\n",
    "\n",
    "latest_job = rm.list_jobs(stack_id = stack_id, limit=1).data[0]\n",
    "\n",
    "print (latest_job)"
   ]
  },
  {
   "cell_type": "code",
   "execution_count": null,
   "metadata": {},
   "outputs": [],
   "source": [
    "# plan stack\n",
    "plan_job_details = oci.resource_manager.models.CreateJobDetails(stack_id=stack_id, operation=\"PLAN\")\n",
    "plan = rm.create_job( plan_job_details)\n",
    "print (plan.data)\n",
    "\n",
    "# TODO: wait for succeeded or failed state\n",
    "# todo: parse logs"
   ]
  },
  {
   "cell_type": "code",
   "execution_count": null,
   "metadata": {},
   "outputs": [],
   "source": [
    "# apply stack\n",
    "\n",
    "# TODO"
   ]
  }
 ],
 "metadata": {
  "kernelspec": {
   "display_name": "Python 3",
   "language": "python",
   "name": "python3"
  },
  "language_info": {
   "codemirror_mode": {
    "name": "ipython",
    "version": 3
   },
   "file_extension": ".py",
   "mimetype": "text/x-python",
   "name": "python",
   "nbconvert_exporter": "python",
   "pygments_lexer": "ipython3",
   "version": "3.11.4"
  }
 },
 "nbformat": 4,
 "nbformat_minor": 2
}
